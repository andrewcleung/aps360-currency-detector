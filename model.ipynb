{
  "nbformat": 4,
  "nbformat_minor": 0,
  "metadata": {
    "colab": {
      "provenance": [],
      "authorship_tag": "ABX9TyMSITVfFk48a2lJCbzzmsWx",
      "include_colab_link": true
    },
    "kernelspec": {
      "name": "python3",
      "display_name": "Python 3"
    },
    "language_info": {
      "name": "python"
    },
    "widgets": {
      "application/vnd.jupyter.widget-state+json": {
        "e3a5bbb6f67d4d738a4102c6865c76af": {
          "model_module": "@jupyter-widgets/controls",
          "model_name": "HBoxModel",
          "model_module_version": "1.5.0",
          "state": {
            "_dom_classes": [],
            "_model_module": "@jupyter-widgets/controls",
            "_model_module_version": "1.5.0",
            "_model_name": "HBoxModel",
            "_view_count": null,
            "_view_module": "@jupyter-widgets/controls",
            "_view_module_version": "1.5.0",
            "_view_name": "HBoxView",
            "box_style": "",
            "children": [
              "IPY_MODEL_ed6250f5c0934537bb7a9d8503adf55a",
              "IPY_MODEL_823543eb1b3743b0bda1c6a8d7880ab6",
              "IPY_MODEL_124c4245807a45f183ebabb9afe6d5a7"
            ],
            "layout": "IPY_MODEL_496dbdc418a84f2783c15ee2e46a5127"
          }
        },
        "ed6250f5c0934537bb7a9d8503adf55a": {
          "model_module": "@jupyter-widgets/controls",
          "model_name": "HTMLModel",
          "model_module_version": "1.5.0",
          "state": {
            "_dom_classes": [],
            "_model_module": "@jupyter-widgets/controls",
            "_model_module_version": "1.5.0",
            "_model_name": "HTMLModel",
            "_view_count": null,
            "_view_module": "@jupyter-widgets/controls",
            "_view_module_version": "1.5.0",
            "_view_name": "HTMLView",
            "description": "",
            "description_tooltip": null,
            "layout": "IPY_MODEL_be24de21d600424b9be2ad9d2fa58462",
            "placeholder": "​",
            "style": "IPY_MODEL_af00c543b7ea48198e341c63d0d05fb4",
            "value": "100%"
          }
        },
        "823543eb1b3743b0bda1c6a8d7880ab6": {
          "model_module": "@jupyter-widgets/controls",
          "model_name": "FloatProgressModel",
          "model_module_version": "1.5.0",
          "state": {
            "_dom_classes": [],
            "_model_module": "@jupyter-widgets/controls",
            "_model_module_version": "1.5.0",
            "_model_name": "FloatProgressModel",
            "_view_count": null,
            "_view_module": "@jupyter-widgets/controls",
            "_view_module_version": "1.5.0",
            "_view_name": "ProgressView",
            "bar_style": "success",
            "description": "",
            "description_tooltip": null,
            "layout": "IPY_MODEL_119db2a10dd84b60b75ca56a523d2f91",
            "max": 244408911,
            "min": 0,
            "orientation": "horizontal",
            "style": "IPY_MODEL_7d55369a322d405da00d38dea08c9720",
            "value": 244408911
          }
        },
        "124c4245807a45f183ebabb9afe6d5a7": {
          "model_module": "@jupyter-widgets/controls",
          "model_name": "HTMLModel",
          "model_module_version": "1.5.0",
          "state": {
            "_dom_classes": [],
            "_model_module": "@jupyter-widgets/controls",
            "_model_module_version": "1.5.0",
            "_model_name": "HTMLModel",
            "_view_count": null,
            "_view_module": "@jupyter-widgets/controls",
            "_view_module_version": "1.5.0",
            "_view_name": "HTMLView",
            "description": "",
            "description_tooltip": null,
            "layout": "IPY_MODEL_4d71713f40ef480a8b7c0225d2176774",
            "placeholder": "​",
            "style": "IPY_MODEL_f867c6af14a4415d956eca23b99dfe15",
            "value": " 233M/233M [00:01&lt;00:00, 248MB/s]"
          }
        },
        "496dbdc418a84f2783c15ee2e46a5127": {
          "model_module": "@jupyter-widgets/base",
          "model_name": "LayoutModel",
          "model_module_version": "1.2.0",
          "state": {
            "_model_module": "@jupyter-widgets/base",
            "_model_module_version": "1.2.0",
            "_model_name": "LayoutModel",
            "_view_count": null,
            "_view_module": "@jupyter-widgets/base",
            "_view_module_version": "1.2.0",
            "_view_name": "LayoutView",
            "align_content": null,
            "align_items": null,
            "align_self": null,
            "border": null,
            "bottom": null,
            "display": null,
            "flex": null,
            "flex_flow": null,
            "grid_area": null,
            "grid_auto_columns": null,
            "grid_auto_flow": null,
            "grid_auto_rows": null,
            "grid_column": null,
            "grid_gap": null,
            "grid_row": null,
            "grid_template_areas": null,
            "grid_template_columns": null,
            "grid_template_rows": null,
            "height": null,
            "justify_content": null,
            "justify_items": null,
            "left": null,
            "margin": null,
            "max_height": null,
            "max_width": null,
            "min_height": null,
            "min_width": null,
            "object_fit": null,
            "object_position": null,
            "order": null,
            "overflow": null,
            "overflow_x": null,
            "overflow_y": null,
            "padding": null,
            "right": null,
            "top": null,
            "visibility": null,
            "width": null
          }
        },
        "be24de21d600424b9be2ad9d2fa58462": {
          "model_module": "@jupyter-widgets/base",
          "model_name": "LayoutModel",
          "model_module_version": "1.2.0",
          "state": {
            "_model_module": "@jupyter-widgets/base",
            "_model_module_version": "1.2.0",
            "_model_name": "LayoutModel",
            "_view_count": null,
            "_view_module": "@jupyter-widgets/base",
            "_view_module_version": "1.2.0",
            "_view_name": "LayoutView",
            "align_content": null,
            "align_items": null,
            "align_self": null,
            "border": null,
            "bottom": null,
            "display": null,
            "flex": null,
            "flex_flow": null,
            "grid_area": null,
            "grid_auto_columns": null,
            "grid_auto_flow": null,
            "grid_auto_rows": null,
            "grid_column": null,
            "grid_gap": null,
            "grid_row": null,
            "grid_template_areas": null,
            "grid_template_columns": null,
            "grid_template_rows": null,
            "height": null,
            "justify_content": null,
            "justify_items": null,
            "left": null,
            "margin": null,
            "max_height": null,
            "max_width": null,
            "min_height": null,
            "min_width": null,
            "object_fit": null,
            "object_position": null,
            "order": null,
            "overflow": null,
            "overflow_x": null,
            "overflow_y": null,
            "padding": null,
            "right": null,
            "top": null,
            "visibility": null,
            "width": null
          }
        },
        "af00c543b7ea48198e341c63d0d05fb4": {
          "model_module": "@jupyter-widgets/controls",
          "model_name": "DescriptionStyleModel",
          "model_module_version": "1.5.0",
          "state": {
            "_model_module": "@jupyter-widgets/controls",
            "_model_module_version": "1.5.0",
            "_model_name": "DescriptionStyleModel",
            "_view_count": null,
            "_view_module": "@jupyter-widgets/base",
            "_view_module_version": "1.2.0",
            "_view_name": "StyleView",
            "description_width": ""
          }
        },
        "119db2a10dd84b60b75ca56a523d2f91": {
          "model_module": "@jupyter-widgets/base",
          "model_name": "LayoutModel",
          "model_module_version": "1.2.0",
          "state": {
            "_model_module": "@jupyter-widgets/base",
            "_model_module_version": "1.2.0",
            "_model_name": "LayoutModel",
            "_view_count": null,
            "_view_module": "@jupyter-widgets/base",
            "_view_module_version": "1.2.0",
            "_view_name": "LayoutView",
            "align_content": null,
            "align_items": null,
            "align_self": null,
            "border": null,
            "bottom": null,
            "display": null,
            "flex": null,
            "flex_flow": null,
            "grid_area": null,
            "grid_auto_columns": null,
            "grid_auto_flow": null,
            "grid_auto_rows": null,
            "grid_column": null,
            "grid_gap": null,
            "grid_row": null,
            "grid_template_areas": null,
            "grid_template_columns": null,
            "grid_template_rows": null,
            "height": null,
            "justify_content": null,
            "justify_items": null,
            "left": null,
            "margin": null,
            "max_height": null,
            "max_width": null,
            "min_height": null,
            "min_width": null,
            "object_fit": null,
            "object_position": null,
            "order": null,
            "overflow": null,
            "overflow_x": null,
            "overflow_y": null,
            "padding": null,
            "right": null,
            "top": null,
            "visibility": null,
            "width": null
          }
        },
        "7d55369a322d405da00d38dea08c9720": {
          "model_module": "@jupyter-widgets/controls",
          "model_name": "ProgressStyleModel",
          "model_module_version": "1.5.0",
          "state": {
            "_model_module": "@jupyter-widgets/controls",
            "_model_module_version": "1.5.0",
            "_model_name": "ProgressStyleModel",
            "_view_count": null,
            "_view_module": "@jupyter-widgets/base",
            "_view_module_version": "1.2.0",
            "_view_name": "StyleView",
            "bar_color": null,
            "description_width": ""
          }
        },
        "4d71713f40ef480a8b7c0225d2176774": {
          "model_module": "@jupyter-widgets/base",
          "model_name": "LayoutModel",
          "model_module_version": "1.2.0",
          "state": {
            "_model_module": "@jupyter-widgets/base",
            "_model_module_version": "1.2.0",
            "_model_name": "LayoutModel",
            "_view_count": null,
            "_view_module": "@jupyter-widgets/base",
            "_view_module_version": "1.2.0",
            "_view_name": "LayoutView",
            "align_content": null,
            "align_items": null,
            "align_self": null,
            "border": null,
            "bottom": null,
            "display": null,
            "flex": null,
            "flex_flow": null,
            "grid_area": null,
            "grid_auto_columns": null,
            "grid_auto_flow": null,
            "grid_auto_rows": null,
            "grid_column": null,
            "grid_gap": null,
            "grid_row": null,
            "grid_template_areas": null,
            "grid_template_columns": null,
            "grid_template_rows": null,
            "height": null,
            "justify_content": null,
            "justify_items": null,
            "left": null,
            "margin": null,
            "max_height": null,
            "max_width": null,
            "min_height": null,
            "min_width": null,
            "object_fit": null,
            "object_position": null,
            "order": null,
            "overflow": null,
            "overflow_x": null,
            "overflow_y": null,
            "padding": null,
            "right": null,
            "top": null,
            "visibility": null,
            "width": null
          }
        },
        "f867c6af14a4415d956eca23b99dfe15": {
          "model_module": "@jupyter-widgets/controls",
          "model_name": "DescriptionStyleModel",
          "model_module_version": "1.5.0",
          "state": {
            "_model_module": "@jupyter-widgets/controls",
            "_model_module_version": "1.5.0",
            "_model_name": "DescriptionStyleModel",
            "_view_count": null,
            "_view_module": "@jupyter-widgets/base",
            "_view_module_version": "1.2.0",
            "_view_name": "StyleView",
            "description_width": ""
          }
        }
      }
    },
    "accelerator": "GPU",
    "gpuClass": "standard"
  },
  "cells": [
    {
      "cell_type": "markdown",
      "metadata": {
        "id": "view-in-github",
        "colab_type": "text"
      },
      "source": [
        "<a href=\"https://colab.research.google.com/github/andrewcleung/aps360-currency-detector/blob/alex-model/model.ipynb\" target=\"_parent\"><img src=\"https://colab.research.google.com/assets/colab-badge.svg\" alt=\"Open In Colab\"/></a>"
      ]
    },
    {
      "cell_type": "markdown",
      "source": [
        "# Group 30 Currency detector\n",
        "## Members\n",
        "Emily Hu, Lawrence Fan, Kenro Oyama, Andrew Leung\n",
        "## Introduction\n",
        "This notebook contains the codebase for the curreny detector model. It utilize alex net's pretrained data, and applied a simple CNN and FCC layer afterwards for the classification problem"
      ],
      "metadata": {
        "id": "x5B0XRNjcA5V"
      }
    },
    {
      "cell_type": "markdown",
      "source": [
        "# Installing Dependencies\n"
      ],
      "metadata": {
        "id": "AOGwK-RpeMOX"
      }
    },
    {
      "cell_type": "code",
      "execution_count": 1,
      "metadata": {
        "id": "raWYueNteHMB"
      },
      "outputs": [],
      "source": [
        "#@title\n",
        "import numpy as np\n",
        "import time\n",
        "import torch\n",
        "import torch.nn as nn\n",
        "import torch.nn.functional as F\n",
        "import torch.optim as optim\n",
        "import torchvision\n",
        "from torch.utils.data.sampler import SubsetRandomSampler\n",
        "import torchvision.transforms as transforms\n",
        "import os\n",
        "import matplotlib.pyplot as plt"
      ]
    },
    {
      "cell_type": "code",
      "source": [
        "device = torch.device('cuda' if torch.cuda.is_available() else 'cpu')"
      ],
      "metadata": {
        "id": "qwlyIAhzjo-8"
      },
      "execution_count": 2,
      "outputs": []
    },
    {
      "cell_type": "code",
      "source": [
        "from google.colab import drive\n",
        "drive.mount('/content/drive')"
      ],
      "metadata": {
        "colab": {
          "base_uri": "https://localhost:8080/"
        },
        "id": "JozPPMdQkTg5",
        "outputId": "4e8b0ceb-16fe-4cdd-a844-295ac7b13dbb"
      },
      "execution_count": 3,
      "outputs": [
        {
          "output_type": "stream",
          "name": "stdout",
          "text": [
            "Mounted at /content/drive\n"
          ]
        }
      ]
    },
    {
      "cell_type": "code",
      "source": [
        "#Paths\n",
        "root = \"drive/MyDrive/Xiang Jia Wei Xin Ma/APS360\"\n",
        "photo = '/dataset'\n",
        "alexnet_features = '/alex_features'\n",
        "weights = '/model_weights'\n",
        "dataset_path = root + photo\n",
        "features_path = root + alexnet_features\n",
        "weights_path = root + weights"
      ],
      "metadata": {
        "id": "SFN7DMMYkZTQ"
      },
      "execution_count": 65,
      "outputs": []
    },
    {
      "cell_type": "code",
      "source": [
        "print(dataset_path)"
      ],
      "metadata": {
        "colab": {
          "base_uri": "https://localhost:8080/"
        },
        "id": "L_NN2WIWmqp4",
        "outputId": "dbcc6048-a668-4b37-9d2c-5b7209be56aa"
      },
      "execution_count": 6,
      "outputs": [
        {
          "output_type": "stream",
          "name": "stdout",
          "text": [
            "drive/MyDrive/Xiang Jia Wei Xin Ma/APS360/dataset\n"
          ]
        }
      ]
    },
    {
      "cell_type": "markdown",
      "source": [
        "# Load the data"
      ],
      "metadata": {
        "id": "CmIdao3mnY6s"
      }
    },
    {
      "cell_type": "markdown",
      "source": [
        "Following code is copied from a updated version of pytorch to use percentage in ramdon split"
      ],
      "metadata": {
        "id": "lF_fDM_Rpz9h"
      }
    },
    {
      "cell_type": "code",
      "source": [
        "import math\n",
        "from torch import default_generator, randperm\n",
        "from torch._utils import _accumulate\n",
        "from torch.utils.data.dataset import Subset\n",
        "\n",
        "def random_split(dataset, lengths,\n",
        "                 generator=default_generator):\n",
        "    r\"\"\"\n",
        "    Randomly split a dataset into non-overlapping new datasets of given lengths.\n",
        "\n",
        "    If a list of fractions that sum up to 1 is given,\n",
        "    the lengths will be computed automatically as\n",
        "    floor(frac * len(dataset)) for each fraction provided.\n",
        "\n",
        "    After computing the lengths, if there are any remainders, 1 count will be\n",
        "    distributed in round-robin fashion to the lengths\n",
        "    until there are no remainders left.\n",
        "\n",
        "    Optionally fix the generator for reproducible results, e.g.:\n",
        "\n",
        "    >>> random_split(range(10), [3, 7], generator=torch.Generator().manual_seed(42))\n",
        "    >>> random_split(range(30), [0.3, 0.3, 0.4], generator=torch.Generator(\n",
        "    ...   ).manual_seed(42))\n",
        "\n",
        "    Args:\n",
        "        dataset (Dataset): Dataset to be split\n",
        "        lengths (sequence): lengths or fractions of splits to be produced\n",
        "        generator (Generator): Generator used for the random permutation.\n",
        "    \"\"\"\n",
        "    if math.isclose(sum(lengths), 1) and sum(lengths) <= 1:\n",
        "        subset_lengths: List[int] = []\n",
        "        for i, frac in enumerate(lengths):\n",
        "            if frac < 0 or frac > 1:\n",
        "                raise ValueError(f\"Fraction at index {i} is not between 0 and 1\")\n",
        "            n_items_in_split = int(\n",
        "                math.floor(len(dataset) * frac)  # type: ignore[arg-type]\n",
        "            )\n",
        "            subset_lengths.append(n_items_in_split)\n",
        "        remainder = len(dataset) - sum(subset_lengths)  # type: ignore[arg-type]\n",
        "        # add 1 to all the lengths in round-robin fashion until the remainder is 0\n",
        "        for i in range(remainder):\n",
        "            idx_to_add_at = i % len(subset_lengths)\n",
        "            subset_lengths[idx_to_add_at] += 1\n",
        "        lengths = subset_lengths\n",
        "        for i, length in enumerate(lengths):\n",
        "            if length == 0:\n",
        "                warnings.warn(f\"Length of split at index {i} is 0. \"\n",
        "                              f\"This might result in an empty dataset.\")\n",
        "\n",
        "    # Cannot verify that dataset is Sized\n",
        "    if sum(lengths) != len(dataset):    # type: ignore[arg-type]\n",
        "        raise ValueError(\"Sum of input lengths does not equal the length of the input dataset!\")\n",
        "\n",
        "    indices = randperm(sum(lengths), generator=generator).tolist()  # type: ignore[call-overload]\n",
        "    return [Subset(dataset, indices[offset - length : offset]) for offset, length in zip(_accumulate(lengths), lengths)]"
      ],
      "metadata": {
        "id": "Br63_ztBprpg"
      },
      "execution_count": 7,
      "outputs": []
    },
    {
      "cell_type": "code",
      "source": [
        "def get_data_loader(batch_size = 64, num_workers = 0):\n",
        "  classes = ['cad_1_coin', 'usd_1_bill', 'cad_2_coin', 'cad_5_bill', 'usd_5_bill', 'cad_10_bill', 'usd_10_bill', 'cad_20_bill', 'usd_20_bill',\n",
        "             'cad_50_bill', 'usd_50_bill', 'cad_100_bill', 'usd_100_bill', 'usd_1_cent_coin', 'cad_5_cent_coin', 'usd_5_cent_coin', 'cad_10_cent_coin', 'usd_10_cent_coin',\n",
        "             'cad_25_cent_coin', 'usd_25_cent_coin']\n",
        "  transform = transforms.Compose(\n",
        "        [transforms.Resize((224,224)),\n",
        "         transforms. transforms.ToTensor(),\n",
        "         transforms.Normalize((0.5, 0.5, 0.5), (0.5, 0.5, 0.5))])\n",
        "  dataset = torchvision.datasets.ImageFolder(dataset_path, transform=transform)\n",
        "  train_set, valid_set, test_set = random_split(dataset, [0.6, 0.2, 0.2])\n",
        "\n",
        "  train_loader = torch.utils.data.DataLoader(train_set, batch_size=batch_size, num_workers = num_workers,shuffle=True)\n",
        "  valid_loader = torch.utils.data.DataLoader(valid_set, batch_size=batch_size, num_workers = num_workers,shuffle=True)\n",
        "  test_loader = torch.utils.data.DataLoader(test_set, batch_size=batch_size, num_workers = num_workers,shuffle=True)\n",
        "  return train_loader, valid_loader, test_loader, classes\n",
        "  "
      ],
      "metadata": {
        "id": "13noOzLdnYOn"
      },
      "execution_count": 9,
      "outputs": []
    },
    {
      "cell_type": "code",
      "source": [
        "test_train_loader, test_valid_loader, test_test_loader, _ = get_data_loader(1)\n",
        "#Validation\n",
        "print(len(test_train_loader))\n",
        "print(len(test_valid_loader))\n",
        "print(len(test_test_loader))\n",
        "\n",
        "# the output is equal to the number of pictures"
      ],
      "metadata": {
        "id": "V5dAPy7ymYI6",
        "colab": {
          "base_uri": "https://localhost:8080/"
        },
        "outputId": "11254888-b999-43c6-d660-215592ab7cb9"
      },
      "execution_count": 10,
      "outputs": [
        {
          "output_type": "stream",
          "name": "stdout",
          "text": [
            "2510\n",
            "837\n",
            "836\n"
          ]
        }
      ]
    },
    {
      "cell_type": "markdown",
      "source": [
        "# The model"
      ],
      "metadata": {
        "id": "GkGqICW3t955"
      }
    },
    {
      "cell_type": "markdown",
      "source": [
        "## helper functions"
      ],
      "metadata": {
        "id": "uAtc9Cy8K2zo"
      }
    },
    {
      "cell_type": "code",
      "source": [
        "from math import floor\n",
        "def get_conv_width(width, kernel_size = 3,  stride = 1 , padding = 0):\n",
        "  return floor(((width - kernel_size + 2*padding)/stride) + 1)\n"
      ],
      "metadata": {
        "id": "snyN6MA0lQ82"
      },
      "execution_count": 19,
      "outputs": []
    },
    {
      "cell_type": "code",
      "source": [
        "def get_model_name(name, batch_size, learning_rate, epoch):\n",
        "    path = \"model_{0}_bs{1}_lr{2}_epoch{3}\".format(name, batch_size, learning_rate, epoch)\n",
        "    return path"
      ],
      "metadata": {
        "id": "x1cUjLCNK8M3"
      },
      "execution_count": 20,
      "outputs": []
    },
    {
      "cell_type": "code",
      "source": [
        "def get_folder_name(name, batch_size, learning_rate):\n",
        "  path = \"model_{0}_bs{1}_lr{2}\".format(name, batch_size, learning_rate)\n",
        "  return path"
      ],
      "metadata": {
        "id": "MXDx5jWqWN0I"
      },
      "execution_count": 61,
      "outputs": []
    },
    {
      "cell_type": "code",
      "source": [
        "def get_accuracy(model, data_loader):\n",
        "  correct = 0\n",
        "  total = 0\n",
        "  for imgs, labels in iter(data_loader):\n",
        "      \n",
        "      if torch.cuda.is_available():\n",
        "        imgs = imgs.cuda()\n",
        "        labels = labels.cuda()\n",
        "\n",
        "      output = model(imgs)\n",
        "      #select index with maximum prediction score\n",
        "      pred = output.max(1, keepdim=True)[1]\n",
        "      correct += pred.eq(labels.view_as(pred)).sum().item()\n",
        "      total += imgs.shape[0]\n",
        "  return correct / total\n"
      ],
      "metadata": {
        "id": "m0spSgB2QKeq"
      },
      "execution_count": 21,
      "outputs": []
    },
    {
      "cell_type": "code",
      "source": [
        "def train_model(model, train_loader, val_loader, batch_size = 32, num_epochs = 20, learning_rate = 1e-4):\n",
        "  torch.manual_seed(10)\n",
        "\n",
        "  criterion = nn.CrossEntropyLoss()\n",
        "  optimizer = optim.Adam(model.parameters(), lr=learning_rate)\n",
        "\n",
        "  train_acc = np.zeros(num_epochs)\n",
        "  val_acc = np.zeros(num_epochs)\n",
        "  epochs = []\n",
        "\n",
        "  # Training\n",
        "  print(\"Training start\")\n",
        "  \n",
        "  for epoch in range(num_epochs):\n",
        "    for imgs, labels in iter(train_loader):\n",
        "      if torch.cuda.is_available():\n",
        "        imgs = imgs.cuda()\n",
        "        labels = labels.cuda()\n",
        "      \n",
        "      pred = model(imgs)\n",
        "      loss = criterion(pred, labels)\n",
        "      loss.backward()\n",
        "      optimizer.step()\n",
        "      optimizer.zero_grad()\n",
        "    \n",
        "    train_acc[epoch] = get_accuracy(model, train_loader)\n",
        "    val_acc[epoch] = get_accuracy(model, val_loader)\n",
        "\n",
        "    print((\"Epoch {}: Train accuracy: {}, Validation accuracy: {}\").format(\n",
        "                   epoch + 1,\n",
        "                   train_acc[epoch],\n",
        "                   val_acc[epoch]))\n",
        "    model_path = get_model_name(model.name, batch_size ,learning_rate, epoch)\n",
        "    folder_path = weights_path + '/' + get_folder_name(model.name, batch_size, learning_rate)\n",
        "    if not os.path.isdir(folder_path):\n",
        "      os.mkdir(folder_path)\n",
        "    torch.save(model.state_dict(), folder_path + '/' + model_path)\n",
        "    epochs.append(epoch + 1)\n",
        "\n",
        "  return train_acc, val_acc, epochs\n",
        "\n"
      ],
      "metadata": {
        "id": "wchfGlIOJUFk"
      },
      "execution_count": 63,
      "outputs": []
    },
    {
      "cell_type": "markdown",
      "source": [
        "## Legacy CNN implementation\n",
        "\n",
        "To speed up the training, our team have decided not to train the CNN network, but instead use the pretrained data from AlexNet"
      ],
      "metadata": {
        "id": "gTFjfVuCFAlP"
      }
    },
    {
      "cell_type": "code",
      "source": [
        "class ConvNet(nn.Module):\n",
        "  def __init__(self, batch_size = 32, num_classes = 20):\n",
        "    super(ConvNet, self).__init__()\n",
        "    self.name = \"initNet\"\n",
        "    self.conv1 = nn.Conv2d(in_channels=3, out_channels=96, kernel_size=11, stride=4)\n",
        "    self.bn1 = nn.BatchNorm2d(num_features=96)\n",
        "\n",
        "    self.conv2 = nn.Conv2d(in_channels=96, out_channels=256, kernel_size=5, padding=2)\n",
        "\n",
        "    self.conv3 = nn.Conv2d(in_channels=256, out_channels=384, kernel_size=3, padding=1)\n",
        "\n",
        "    self.conv4 = nn.Conv2d(in_channels=384, out_channels=384, kernel_size=3, padding=1)\n",
        "\n",
        "    self.conv5 = nn.Conv2d(in_channels=384, out_channels=256, kernel_size=3, padding=1)\n",
        "    self.bn2 = nn.BatchNorm2d(num_features=256)  \n",
        "\n",
        "    # pool\n",
        "    self.pool = nn.MaxPool2d(3,2)\n",
        "\n",
        "    # fully connected network\n",
        "    self.fc1 = nn.Linear(5*5*256, 100)\n",
        "    self.fc2 = nn.Linear(100, num_classes)\n",
        "\n",
        "    # dropout\n",
        "    self.dropout = nn.Dropout()\n",
        "\n",
        "  def forward(self, x):\n",
        "    x = self.conv1(x)\n",
        "    x = self.bn1(x)\n",
        "    x = self.pool(F.relu(x))\n",
        "\n",
        "    x = self.pool(F.relu(self.conv2(x)))\n",
        "    x = self.conv3(x)\n",
        "    x = self.conv4(x)\n",
        "    x = self.pool(F.relu(self.conv5(x)))\n",
        "\n",
        "    x = x.view(-1, 5*5*256)\n",
        "    x = self.dropout(F.relu(self.fc1(x)))\n",
        "    x = self.dropout(F.relu(self.fc2(x)))\n",
        "\n",
        "    return x\n",
        "\n"
      ],
      "metadata": {
        "id": "Cbyh8BgfuAHo"
      },
      "execution_count": 11,
      "outputs": []
    },
    {
      "cell_type": "markdown",
      "source": [
        "## Alex net implementation\n"
      ],
      "metadata": {
        "id": "NgNJW7VhGSy3"
      }
    },
    {
      "cell_type": "markdown",
      "source": [
        "### Converting the data into alex net features"
      ],
      "metadata": {
        "id": "-i8xcnKdLG49"
      }
    },
    {
      "cell_type": "code",
      "source": [
        "import torchvision.models\n",
        "alexnet = torchvision.models.alexnet(pretrained=True)"
      ],
      "metadata": {
        "colab": {
          "base_uri": "https://localhost:8080/",
          "height": 158,
          "referenced_widgets": [
            "e3a5bbb6f67d4d738a4102c6865c76af",
            "ed6250f5c0934537bb7a9d8503adf55a",
            "823543eb1b3743b0bda1c6a8d7880ab6",
            "124c4245807a45f183ebabb9afe6d5a7",
            "496dbdc418a84f2783c15ee2e46a5127",
            "be24de21d600424b9be2ad9d2fa58462",
            "af00c543b7ea48198e341c63d0d05fb4",
            "119db2a10dd84b60b75ca56a523d2f91",
            "7d55369a322d405da00d38dea08c9720",
            "4d71713f40ef480a8b7c0225d2176774",
            "f867c6af14a4415d956eca23b99dfe15"
          ]
        },
        "id": "xUbiZ5wjGXyI",
        "outputId": "4d0c6e7d-8d30-4b06-b08f-bfe553d0813e"
      },
      "execution_count": 12,
      "outputs": [
        {
          "output_type": "stream",
          "name": "stderr",
          "text": [
            "/usr/local/lib/python3.7/dist-packages/torchvision/models/_utils.py:209: UserWarning: The parameter 'pretrained' is deprecated since 0.13 and will be removed in 0.15, please use 'weights' instead.\n",
            "  f\"The parameter '{pretrained_param}' is deprecated since 0.13 and will be removed in 0.15, \"\n",
            "/usr/local/lib/python3.7/dist-packages/torchvision/models/_utils.py:223: UserWarning: Arguments other than a weight enum or `None` for 'weights' are deprecated since 0.13 and will be removed in 0.15. The current behavior is equivalent to passing `weights=AlexNet_Weights.IMAGENET1K_V1`. You can also use `weights=AlexNet_Weights.DEFAULT` to get the most up-to-date weights.\n",
            "  warnings.warn(msg)\n",
            "Downloading: \"https://download.pytorch.org/models/alexnet-owt-7be5be79.pth\" to /root/.cache/torch/hub/checkpoints/alexnet-owt-7be5be79.pth\n"
          ]
        },
        {
          "output_type": "display_data",
          "data": {
            "text/plain": [
              "  0%|          | 0.00/233M [00:00<?, ?B/s]"
            ],
            "application/vnd.jupyter.widget-view+json": {
              "version_major": 2,
              "version_minor": 0,
              "model_id": "e3a5bbb6f67d4d738a4102c6865c76af"
            }
          },
          "metadata": {}
        }
      ]
    },
    {
      "cell_type": "code",
      "source": [
        "# Prepare dataloader\n",
        "batch_size = 1\n",
        "num_workers = 1\n",
        "\n",
        "train_data_loader, val_data_loader, test_data_loader, classes = get_data_loader(batch_size = batch_size, num_workers=num_workers)\n",
        "\n",
        "print(len(train_data_loader))\n",
        "print(len(val_data_loader))\n",
        "print(test_data_loader.dataset)\n",
        "# it seems like the dataset is pointing at the same object regardless of the object"
      ],
      "metadata": {
        "colab": {
          "base_uri": "https://localhost:8080/"
        },
        "id": "_v4P4M5uGyO3",
        "outputId": "51ec439b-7cc5-46df-9e36-4e3a11d9943c"
      },
      "execution_count": 71,
      "outputs": [
        {
          "output_type": "stream",
          "name": "stdout",
          "text": [
            "2510\n",
            "837\n",
            "<torch.utils.data.dataset.Subset object at 0x7f8c0a53ba90>\n"
          ]
        }
      ]
    },
    {
      "cell_type": "code",
      "source": [
        "# save features to folder as tensors\n",
        "n = 0\n",
        "for img, label in train_data_loader.dataset:\n",
        "  features = alexnet.features(img)\n",
        "  features_tensor = torch.from_numpy(features.detach().numpy())\n",
        "\n",
        "  folder_name = features_path + '/train/' + str(classes[label])\n",
        "  if not os.path.isdir(folder_name):\n",
        "    os.mkdir(folder_name)\n",
        "  torch.save(features_tensor.squeeze(0), folder_name + '/' + str(n) + '.tensor')\n",
        "  n += 1\n",
        "\n",
        "n = 0\n",
        "for img, label in val_data_loader.dataset:\n",
        "  features = alexnet.features(img)\n",
        "  features_tensor = torch.from_numpy(features.detach().numpy())\n",
        "\n",
        "  folder_name = features_path + '/val/' + str(classes[label])\n",
        "  if not os.path.isdir(folder_name):\n",
        "    os.mkdir(folder_name)\n",
        "  torch.save(features_tensor.squeeze(0), folder_name + '/' + str(n) + '.tensor')\n",
        "  n += 1\n",
        "\n",
        "n = 0\n",
        "for img, label in test_data_loader.dataset:\n",
        "  features = alexnet.features(img)\n",
        "  features_tensor = torch.from_numpy(features.detach().numpy())\n",
        "\n",
        "  folder_name = features_path + '/test/' + str(classes[label])\n",
        "  if not os.path.isdir(folder_name):\n",
        "    os.mkdir(folder_name)\n",
        "  torch.save(features_tensor.squeeze(0), folder_name + '/' + str(n) + '.tensor')\n",
        "  n += 1\n"
      ],
      "metadata": {
        "id": "v-3dWnn_gMqw"
      },
      "execution_count": null,
      "outputs": []
    },
    {
      "cell_type": "markdown",
      "source": [
        "### loading the tensor files from folder\n"
      ],
      "metadata": {
        "id": "OvQscysQHAxu"
      }
    },
    {
      "cell_type": "code",
      "source": [
        "dir_path = '/content/drive/MyDrive/Xiang Jia Wei Xin Ma/APS360/alex_features/train'\n",
        "count = 0\n",
        "# Iterate directory\n",
        "for path in os.listdir(dir_path):\n",
        "  print(path)\n",
        "  for file in os.listdir(os.path.join(dir_path,path)):\n",
        "    if os.path.isfile(os.path.join(dir_path, path, file)):\n",
        "        count += 1\n",
        "  break\n",
        "print('File count:', count)"
      ],
      "metadata": {
        "colab": {
          "base_uri": "https://localhost:8080/"
        },
        "id": "Ua87M0-8Hl1h",
        "outputId": "3eaa9253-eb82-4ef5-eb12-b039982bb2bc"
      },
      "execution_count": 44,
      "outputs": [
        {
          "output_type": "stream",
          "name": "stdout",
          "text": [
            "cad_20_bill\n",
            "File count: 210\n"
          ]
        }
      ]
    },
    {
      "cell_type": "code",
      "source": [
        "print(\"Loading data from\", features_path)\n",
        "def get_feature_data_loader(batch_size = 32, num_workers = 1):\n",
        "  features_dataset = torchvision.datasets.DatasetFolder(features_path + '/train', loader=torch.load, extensions=('.tensor'))\n",
        "  train_features, val_features, test_features = random_split(features_dataset, [0.6,0.2,0.2])\n",
        "  # Prepare the dataloader for alex net\n",
        "  train_feature_loader = torch.utils.data.DataLoader(train_features, batch_size=batch_size, \n",
        "                                           num_workers=num_workers, shuffle=True)\n",
        "  val_feature_loader = torch.utils.data.DataLoader(val_features, batch_size=batch_size, \n",
        "                                            num_workers=num_workers, shuffle=True)\n",
        "  test_feature_loader = torch.utils.data.DataLoader(test_features, batch_size=batch_size, \n",
        "                                           num_workers=num_workers, shuffle=True)\n",
        "  return train_feature_loader, val_feature_loader, test_feature_loader\n"
      ],
      "metadata": {
        "colab": {
          "base_uri": "https://localhost:8080/"
        },
        "id": "CYiotnEIHEu3",
        "outputId": "0168c380-bc5e-4b17-f549-9515e4313637"
      },
      "execution_count": 46,
      "outputs": [
        {
          "output_type": "stream",
          "name": "stdout",
          "text": [
            "Loading data from drive/MyDrive/Xiang Jia Wei Xin Ma/APS360/alex_features\n"
          ]
        }
      ]
    },
    {
      "cell_type": "code",
      "source": [
        "train_feature_loader, val_feature_loader, test_feature_loader = get_feature_data_loader()\n",
        "# Verification Step - obtain one batch of features\n",
        "dataiter = iter(train_feature_loader)\n",
        "features, labels = dataiter.next()\n",
        "print(features.shape)\n",
        "print(labels.shape)"
      ],
      "metadata": {
        "colab": {
          "base_uri": "https://localhost:8080/"
        },
        "id": "qIPxxoOkKkP0",
        "outputId": "83555f68-8d3c-4b81-9bf4-ba9ff72df01a"
      },
      "execution_count": 47,
      "outputs": [
        {
          "output_type": "stream",
          "name": "stdout",
          "text": [
            "torch.Size([32, 256, 6, 6])\n",
            "torch.Size([32])\n"
          ]
        }
      ]
    },
    {
      "cell_type": "markdown",
      "source": [
        "### The Alex model"
      ],
      "metadata": {
        "id": "CDAbdkhpRtPF"
      }
    },
    {
      "cell_type": "code",
      "source": [
        "torch.manual_seed(10) # set random seed\n",
        "from math import floor\n",
        "\n",
        "class AlexNet(nn.Module):\n",
        "  def __init__(self, name=\"Alex Net\", num_classes = 20):\n",
        "    super(AlexNet, self).__init__()\n",
        "    self.name = name\n",
        "    self.conv1 = nn.Conv2d(in_channels=256, out_channels=512, kernel_size=3)\n",
        "    self.pool = nn.MaxPool2d(2 ,2)\n",
        "\n",
        "    self.fc1 = nn.Linear(2 * 2 * 512, 64)\n",
        "    self.fc2 = nn.Linear(64, num_classes)\n",
        "\n",
        "  def forward(self, features):\n",
        "    x = self.pool(F.relu(self.conv1(features)))\n",
        "    x  = x.view(-1, 2*2*512)\n",
        "    x = F.relu(self.fc1(x))\n",
        "    x = self.fc2(x)\n",
        "    return F.softmax(x, dim=1)\n"
      ],
      "metadata": {
        "id": "07tf-4F1Rvyh"
      },
      "execution_count": 24,
      "outputs": []
    },
    {
      "cell_type": "code",
      "source": [
        "net = AlexNet()\n",
        "if torch.cuda.is_available():\n",
        "  net.cuda()\n",
        "\n",
        "\n",
        "train_acc, val_acc, epochs = train_model(net, train_feature_loader, val_feature_loader, batch_size=128, num_epochs=20, learning_rate=1e-4)"
      ],
      "metadata": {
        "colab": {
          "base_uri": "https://localhost:8080/"
        },
        "id": "2A0QwSbCczIO",
        "outputId": "37c6c2b3-cc30-4223-9df0-53927f906f14"
      },
      "execution_count": 66,
      "outputs": [
        {
          "output_type": "stream",
          "name": "stdout",
          "text": [
            "Training start\n",
            "Epoch 1: Train accuracy: 0.5713147410358566, Validation accuracy: 0.5615292712066906\n",
            "Epoch 2: Train accuracy: 0.7243027888446215, Validation accuracy: 0.7120669056152927\n",
            "Epoch 3: Train accuracy: 0.8135458167330677, Validation accuracy: 0.8183990442054958\n",
            "Epoch 4: Train accuracy: 0.8310756972111554, Validation accuracy: 0.8183990442054958\n",
            "Epoch 5: Train accuracy: 0.8386454183266933, Validation accuracy: 0.8375149342891278\n",
            "Epoch 6: Train accuracy: 0.8426294820717132, Validation accuracy: 0.8387096774193549\n",
            "Epoch 7: Train accuracy: 0.8446215139442231, Validation accuracy: 0.8422939068100358\n",
            "Epoch 8: Train accuracy: 0.8450199203187251, Validation accuracy: 0.8399044205495818\n",
            "Epoch 9: Train accuracy: 0.8450199203187251, Validation accuracy: 0.8339307048984468\n",
            "Epoch 10: Train accuracy: 0.8458167330677291, Validation accuracy: 0.8410991636798089\n",
            "Epoch 11: Train accuracy: 0.8474103585657371, Validation accuracy: 0.8470728793309439\n",
            "Epoch 12: Train accuracy: 0.849800796812749, Validation accuracy: 0.8446833930704899\n",
            "Epoch 13: Train accuracy: 0.850996015936255, Validation accuracy: 0.8458781362007168\n",
            "Epoch 14: Train accuracy: 0.851792828685259, Validation accuracy: 0.8446833930704899\n",
            "Epoch 15: Train accuracy: 0.851792828685259, Validation accuracy: 0.8458781362007168\n",
            "Epoch 16: Train accuracy: 0.851792828685259, Validation accuracy: 0.8458781362007168\n",
            "Epoch 17: Train accuracy: 0.851394422310757, Validation accuracy: 0.8446833930704899\n",
            "Epoch 18: Train accuracy: 0.851394422310757, Validation accuracy: 0.8422939068100358\n",
            "Epoch 19: Train accuracy: 0.8521912350597609, Validation accuracy: 0.8470728793309439\n",
            "Epoch 20: Train accuracy: 0.8521912350597609, Validation accuracy: 0.8458781362007168\n"
          ]
        }
      ]
    },
    {
      "cell_type": "markdown",
      "source": [
        "#### plotting the result"
      ],
      "metadata": {
        "id": "7owpJfhPYZ52"
      }
    },
    {
      "cell_type": "code",
      "source": [
        "plt.plot(epochs, train_acc)\n",
        "plt.title(\"Training curve\")\n",
        "plt.xlabel(\"Epochs\")\n",
        "plt.ylabel(\"Train Accuracy\")\n",
        "plt.show()\n",
        "\n",
        "plt.plot(epochs, val_acc)\n",
        "plt.title(\"Training curve\")\n",
        "plt.xlabel(\"Epochs\")\n",
        "plt.ylabel(\"Validation Accuracy\")\n",
        "plt.show()"
      ],
      "metadata": {
        "colab": {
          "base_uri": "https://localhost:8080/",
          "height": 573
        },
        "id": "7rC_w56wYZHF",
        "outputId": "ac4ecf96-52c5-4236-c38b-af7c5b9fdade"
      },
      "execution_count": 67,
      "outputs": [
        {
          "output_type": "display_data",
          "data": {
            "text/plain": [
              "<Figure size 432x288 with 1 Axes>"
            ],
            "image/png": "[encoded data removed]"
          },
          "metadata": {
            "needs_background": "light"
          }
        },
        {
          "output_type": "display_data",
          "data": {
            "text/plain": [
              "<Figure size 432x288 with 1 Axes>"
            ],
            "image/png": "[encoded data removed]"
          },
          "metadata": {
            "needs_background": "light"
          }
        }
      ]
    },
    {
      "cell_type": "markdown",
      "source": [
        "# Testing our models accuracy"
      ],
      "metadata": {
        "id": "5C3Nf6DfY1Ry"
      }
    },
    {
      "cell_type": "code",
      "source": [
        "print(get_accuracy(net, test_feature_loader))"
      ],
      "metadata": {
        "colab": {
          "base_uri": "https://localhost:8080/"
        },
        "id": "_rXN5n_aV2S7",
        "outputId": "7c6ff530-1fc2-4a6f-92c8-baf452c5ecc4"
      },
      "execution_count": 60,
      "outputs": [
        {
          "output_type": "stream",
          "name": "stdout",
          "text": [
            "0.8301435406698564\n"
          ]
        }
      ]
    }
  ]
}