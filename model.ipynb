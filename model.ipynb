{
  "nbformat": 4,
  "nbformat_minor": 0,
  "metadata": {
    "colab": {
      "provenance": [],
      "authorship_tag": "ABX9TyPUTwMHabYQQQ0XWdbvlxAk"
    },
    "kernelspec": {
      "name": "python3",
      "display_name": "Python 3"
    },
    "language_info": {
      "name": "python"
    }
  },
  "cells": [
    {
      "cell_type": "markdown",
      "source": [
        "# Installing Dependencies\n"
      ],
      "metadata": {
        "id": "AOGwK-RpeMOX"
      }
    },
    {
      "cell_type": "code",
      "execution_count": 34,
      "metadata": {
        "id": "raWYueNteHMB"
      },
      "outputs": [],
      "source": [
        "#@title\n",
        "import numpy as np\n",
        "import time\n",
        "import torch\n",
        "import torch.nn as nn\n",
        "import torch.nn.functional as F\n",
        "import torch.optim as optim\n",
        "import torchvision\n",
        "from torch.utils.data.sampler import SubsetRandomSampler\n",
        "import torchvision.transforms as transforms\n",
        "import os"
      ]
    },
    {
      "cell_type": "code",
      "source": [
        "device = torch.device('cuda' if torch.cuda.is_available() else 'cpu')"
      ],
      "metadata": {
        "id": "qwlyIAhzjo-8"
      },
      "execution_count": 36,
      "outputs": []
    },
    {
      "cell_type": "code",
      "source": [
        "from google.colab import drive\n",
        "drive.mount('/content/drive')"
      ],
      "metadata": {
        "colab": {
          "base_uri": "https://localhost:8080/"
        },
        "id": "JozPPMdQkTg5",
        "outputId": "0cd15056-bd18-40a4-8372-b15acd70f2d7"
      },
      "execution_count": 37,
      "outputs": [
        {
          "output_type": "stream",
          "name": "stdout",
          "text": [
            "Drive already mounted at /content/drive; to attempt to forcibly remount, call drive.mount(\"/content/drive\", force_remount=True).\n"
          ]
        }
      ]
    },
    {
      "cell_type": "code",
      "source": [
        "#Paths\n",
        "root = \"drive/MyDrive/Xiang Jia Wei Xin Ma/APS360\"\n",
        "photo = '/dataset'\n",
        "dataset_path = root + photo"
      ],
      "metadata": {
        "id": "SFN7DMMYkZTQ"
      },
      "execution_count": 39,
      "outputs": []
    },
    {
      "cell_type": "markdown",
      "source": [
        "# Load the data"
      ],
      "metadata": {
        "id": "CmIdao3mnY6s"
      }
    },
    {
      "cell_type": "code",
      "source": [
        "def get_data_loader(batch_size = 64):\n",
        "  classes = ['cad_1_coin', 'usd_1_bill', 'cad_2_coin', 'usd_2_bill', 'cad_5_bill', 'usd_5_bill', 'cad_10_bill', 'usd_10_bill', 'cad_20_bill', 'usd_20_bill',\n",
        "             'cad_50_bill', 'cad_100_bill', 'usd_100_bill', 'usd_1_cent_coin', 'cad_5_cent_coin', 'usd_5_cent_coin', 'cad_10_cent_coin', 'usd_10_cent_coin',\n",
        "             'cad_25_cent_coin', 'usd_25_cent_coin']\n",
        "  transform = transforms.Compose(\n",
        "        [transforms.ToTensor(),\n",
        "         transforms.Normalize((0.5, 0.5, 0.5), (0.5, 0.5, 0.5))])\n",
        "  \n",
        "  data_loader = torch.utils.data.DataLoader(torchvision.datasets.ImageFolder(dataset_path, transform=transform), batch_size=batch_size, shuffle=True)\n",
        "  train_loader, valid_loader, test_loader = torch.utils.data.random_split(data_loader, [0.8, 0.2, 0.2])\n",
        "\n",
        "  return train_loader, valid_loader, test_loader, classes\n",
        "  "
      ],
      "metadata": {
        "id": "13noOzLdnYOn"
      },
      "execution_count": null,
      "outputs": []
    }
  ]
}