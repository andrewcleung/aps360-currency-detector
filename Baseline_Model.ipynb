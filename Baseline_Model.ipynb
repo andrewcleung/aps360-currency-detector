{
  "nbformat": 4,
  "nbformat_minor": 0,
  "metadata": {
    "colab": {
      "provenance": []
    },
    "kernelspec": {
      "name": "python3",
      "display_name": "Python 3"
    },
    "language_info": {
      "name": "python"
    }
  },
  "cells": [
    {
      "cell_type": "code",
      "execution_count": 1,
      "metadata": {
        "colab": {
          "base_uri": "https://localhost:8080/"
        },
        "id": "ohGZfjTAnshR",
        "outputId": "f89b6fa4-2c08-4c0f-9ebb-1fce19d039f9"
      },
      "outputs": [
        {
          "output_type": "stream",
          "name": "stdout",
          "text": [
            "Mounted at /content/drive\n"
          ]
        }
      ],
      "source": [
        "from google.colab import drive\n",
        "drive.mount('/content/drive')"
      ]
    },
    {
      "cell_type": "code",
      "source": [
        "#import libraries\n",
        "import pandas as pd\n",
        "import os\n",
        "from skimage.transform import resize\n",
        "from skimage.io import imread\n",
        "import numpy as np\n",
        "import matplotlib.pyplot as plt\n",
        "from sklearn import svm\n",
        "from sklearn.svm import SVC\n",
        "from sklearn.model_selection import GridSearchCV\n",
        "from sklearn.model_selection import train_test_split\n",
        "from sklearn.metrics import classification_report,accuracy_score,confusion_matrix\n",
        "import cv2\n",
        "import pickle\n",
        "import random"
      ],
      "metadata": {
        "id": "ps5TWON6n2fc"
      },
      "execution_count": 2,
      "outputs": []
    },
    {
      "cell_type": "code",
      "source": [
        "categories=['Test 1', 'Test 2', 'Test 3']\n",
        "\n",
        "datadir='/content/drive/MyDrive/Photos/' \n",
        "\n",
        "data = []\n",
        "\n",
        "for category in categories:\n",
        "    path = os.path.join(datadir,category)\n",
        "    label = categories.index(category)\n",
        "\n",
        "    for img in os.listdir(path):\n",
        "      img_path = os.path.join(path, img)\n",
        "      currency_img = cv2. imread(img_path, 0)\n",
        "\n",
        "      try:\n",
        "        currency_img = cv2.resize(currency_img,(150, 150))\n",
        "        image = np.array(currency_img).flatten()\n",
        "\n",
        "        data.append([image, label])\n",
        "      except Exception as e:\n",
        "        pass"
      ],
      "metadata": {
        "id": "IVWirbyRofDM"
      },
      "execution_count": 34,
      "outputs": []
    },
    {
      "cell_type": "code",
      "source": [
        "pick_in = open('data1.pickle', 'wb')\n",
        "pickle.dump(data, pick_in)\n",
        "pick_in.close()"
      ],
      "metadata": {
        "id": "bIg6f18BpNtg"
      },
      "execution_count": 35,
      "outputs": []
    },
    {
      "cell_type": "code",
      "source": [
        "pick_in = open('data1.pickle', 'rb')\n",
        "data = pickle.load(pick_in)\n",
        "pick_in.close()"
      ],
      "metadata": {
        "id": "O8FSs0FcoerF"
      },
      "execution_count": 36,
      "outputs": []
    },
    {
      "cell_type": "code",
      "source": [
        "random.shuffle(data)\n",
        "features = []\n",
        "labels = []\n",
        "\n",
        "for feature, label in data:\n",
        "  features.append(feature)\n",
        "  labels.append(label)\n",
        "\n",
        "xtrain, xtest, ytrain, ytest = train_test_split(features, labels, test_size=0.25)"
      ],
      "metadata": {
        "id": "lk0IDOKapmaa"
      },
      "execution_count": 37,
      "outputs": []
    },
    {
      "cell_type": "code",
      "source": [
        "param_grid={'C':[0.1,1,10,100],'gamma':['auto'],'kernel':['rbf','poly']}\n",
        "svc=svm.SVC(probability=True)\n",
        "model=GridSearchCV(svc, param_grid)\n",
        "model.fit(xtrain, ytrain)"
      ],
      "metadata": {
        "colab": {
          "base_uri": "https://localhost:8080/"
        },
        "id": "Q_MZwzpyqVU_",
        "outputId": "c3e1a9fd-a3bd-4218-c0ba-0643baecd9cc"
      },
      "execution_count": 40,
      "outputs": [
        {
          "output_type": "execute_result",
          "data": {
            "text/plain": [
              "GridSearchCV(estimator=SVC(probability=True),\n",
              "             param_grid={'C': [0.1, 1, 10, 100], 'gamma': ['auto'],\n",
              "                         'kernel': ['rbf', 'poly']})"
            ]
          },
          "metadata": {},
          "execution_count": 40
        }
      ]
    },
    {
      "cell_type": "code",
      "source": [
        "prediction = model.predict(xtest)\n",
        "accuracy = model.score(xtest, ytest)\n",
        "print (\"accuracy = \", accuracy)"
      ],
      "metadata": {
        "colab": {
          "base_uri": "https://localhost:8080/"
        },
        "id": "R_j5wlo5pqWT",
        "outputId": "07cbea49-7f83-41f1-a40e-8f47d3198d3f"
      },
      "execution_count": 43,
      "outputs": [
        {
          "output_type": "stream",
          "name": "stdout",
          "text": [
            "accuracy =  0.5\n"
          ]
        }
      ]
    }
  ]
}